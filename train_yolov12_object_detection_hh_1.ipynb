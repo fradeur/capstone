{
  "nbformat": 4,
  "nbformat_minor": 0,
  "metadata": {
    "colab": {
      "provenance": [],
      "machine_shape": "hm",
      "gpuType": "T4",
      "include_colab_link": true
    },
    "kernelspec": {
      "name": "python3",
      "display_name": "Python 3"
    },
    "language_info": {
      "name": "python"
    }
  },
  "cells": [
    {
      "cell_type": "markdown",
      "metadata": {
        "id": "view-in-github",
        "colab_type": "text"
      },
      "source": [
        "<a href=\"https://colab.research.google.com/github/fradeur/capstone/blob/main/train_yolov12_object_detection_hh_1.ipynb\" target=\"_parent\"><img src=\"https://colab.research.google.com/assets/colab-badge.svg\" alt=\"Open In Colab\"/></a>"
      ]
    },
    {
      "cell_type": "markdown",
      "source": [
        "\n",
        "\n",
        "---\n",
        "\n",
        "\n",
        "# Question 6 – Transmission Time Distribution Analysis\n",
        "\n",
        "We analyze the probability distribution that best fits the message transmission time (50 data samples).\n",
        "\n",
        "\n"
      ],
      "metadata": {
        "id": "NyQxnvGsjH7D"
      }
    },
    {
      "cell_type": "markdown",
      "source": [
        "### Load the Data\n"
      ],
      "metadata": {
        "id": "Ii-XoM9Ijo0r"
      }
    },
    {
      "cell_type": "code",
      "source": [
        "import numpy as np\n",
        "\n",
        "# Transmission time data (in milliseconds)\n",
        "data = np.array([5.3, 3.9, 5.4, 4.4, 5.1, 4.2, 5.6, 5.5, 6.2, 3.8,\n",
        "                 5.3, 5.5, 4.6, 3.9, 6.4, 3.8, 5.0, 4.2, 5.1, 5.1,\n",
        "                 5.4, 4.6, 5.1, 5.2, 3.8, 5.0, 5.7, 6.2, 5.4, 5.0,\n",
        "                 6.0, 6.3, 2.6, 2.7, 4.5, 4.8, 2.8, 6.2, 5.4, 4.3,\n",
        "                 4.3, 5.5, 4.6, 5.3, 5.0, 4.8, 4.4, 6.2, 5.4, 4.9])"
      ],
      "metadata": {
        "id": "HyOMtQVRjqae"
      },
      "execution_count": null,
      "outputs": []
    },
    {
      "cell_type": "markdown",
      "source": [
        "### Estimate Parameters\n",
        "\n"
      ],
      "metadata": {
        "id": "jdS8xtWOFblv"
      }
    },
    {
      "cell_type": "code",
      "execution_count": null,
      "metadata": {
        "collapsed": true,
        "id": "8JKctYYXV3tv",
        "outputId": "a7847339-521e-4092-9090-687dc2b7c5f6",
        "colab": {
          "base_uri": "https://localhost:8080/"
        }
      },
      "outputs": [
        {
          "output_type": "stream",
          "name": "stdout",
          "text": [
            "Normal Distribution: μ = 4.91, σ = 0.89\n",
            "Exponential Distribution: λ = 0.20\n"
          ]
        }
      ],
      "source": [
        "from scipy import stats\n",
        "\n",
        "# Normal distribution parameters\n",
        "mu, std = np.mean(data), np.std(data)\n",
        "print(f\"Normal Distribution: μ = {mu:.2f}, σ = {std:.2f}\")\n",
        "\n",
        "# Exponential distribution parameter\n",
        "lambda_exp = 1 / mu\n",
        "print(f\"Exponential Distribution: λ = {lambda_exp:.2f}\")"
      ]
    },
    {
      "cell_type": "markdown",
      "source": [
        "### Kolmogorov–Smirnov Test"
      ],
      "metadata": {
        "id": "9P579Wz8j8dM"
      }
    },
    {
      "cell_type": "code",
      "source": [
        "ks_normal = stats.kstest(data, 'norm', args=(mu, std))\n",
        "ks_exp = stats.kstest(data, 'expon', args=(0, 1/lambda_exp))\n",
        "\n",
        "print(\"Kolmogorov–Smirnov Test (Normal):\", ks_normal)\n",
        "print(\"Kolmogorov–Smirnov Test (Exponential):\", ks_exp)\n"
      ],
      "metadata": {
        "colab": {
          "base_uri": "https://localhost:8080/"
        },
        "id": "pWKaiK4AWycO",
        "outputId": "43bfd2ed-3c3d-45ab-ad2d-154197ad278e"
      },
      "execution_count": null,
      "outputs": [
        {
          "output_type": "stream",
          "name": "stdout",
          "text": [
            "Kolmogorov–Smirnov Test (Normal): KstestResult(statistic=np.float64(0.11867733710777167), pvalue=np.float64(0.4476319957664052), statistic_location=np.float64(5.0), statistic_sign=np.int8(-1))\n",
            "Kolmogorov–Smirnov Test (Exponential): KstestResult(statistic=np.float64(0.478512713347586), pvalue=np.float64(4.779594505398618e-11), statistic_location=np.float64(3.8), statistic_sign=np.int8(-1))\n"
          ]
        }
      ]
    },
    {
      "cell_type": "markdown",
      "source": [
        "## Anderson–Darling Test"
      ],
      "metadata": {
        "id": "wmTntULfj-ly"
      }
    },
    {
      "cell_type": "code",
      "source": [
        "ad_result = stats.anderson(data, dist='norm')\n",
        "print(\"Anderson–Darling Test (Normal)\")\n",
        "print(f\"Statistic: {ad_result.statistic}\")\n",
        "for sl, cv in zip(ad_result.significance_level, ad_result.critical_values):\n",
        "    print(f\"Significance Level {sl}%: Critical Value = {cv}\")\n"
      ],
      "metadata": {
        "id": "BFOfDnL_Ia8Y",
        "outputId": "a10f2c12-ead7-4e12-d00c-af6a7366f541",
        "colab": {
          "base_uri": "https://localhost:8080/"
        }
      },
      "execution_count": null,
      "outputs": [
        {
          "output_type": "stream",
          "name": "stdout",
          "text": [
            "Anderson–Darling Test (Normal)\n",
            "Statistic: 0.6591096160742822\n",
            "Significance Level 15.0%: Critical Value = 0.538\n",
            "Significance Level 10.0%: Critical Value = 0.613\n",
            "Significance Level 5.0%: Critical Value = 0.736\n",
            "Significance Level 2.5%: Critical Value = 0.858\n",
            "Significance Level 1.0%: Critical Value = 1.021\n"
          ]
        }
      ]
    },
    {
      "cell_type": "markdown",
      "source": [
        "## Final Conclusion"
      ],
      "metadata": {
        "id": "GNLFKfVqPAmL"
      }
    },
    {
      "cell_type": "code",
      "source": [
        "# Estimated parameters\n",
        "mu, std = np.mean(data), np.std(data)\n",
        "lambda_exp = 1 / mu\n",
        "\n",
        "# Run KS tests\n",
        "ks_normal = stats.kstest(data, 'norm', args=(mu, std))\n",
        "ks_exp = stats.kstest(data, 'expon', args=(0, 1 / lambda_exp))\n",
        "\n",
        "# Run Anderson-Darling test for normality\n",
        "ad_result = stats.anderson(data, dist='norm')\n",
        "\n",
        "# --- Results ---\n",
        "print(f\"Estimated Normal Parameters: μ = {mu:.2f}, σ = {std:.2f}\")\n",
        "print(f\"Estimated Exponential Parameter: λ = {lambda_exp:.2f}\\n\")\n",
        "\n",
        "print(\"Kolmogorov–Smirnov Test for Normal Distribution:\")\n",
        "print(f\"  Statistic = {ks_normal.statistic:.4f}, p-value = {ks_normal.pvalue:.4f}\")\n",
        "if ks_normal.pvalue > 0.05:\n",
        "    print(\"  ➤ Conclusion: Data follows a normal distribution (fail to reject H₀)\")\n",
        "else:\n",
        "    print(\"  ➤ Conclusion: Data does NOT follow a normal distribution (reject H₀)\")\n",
        "\n",
        "print(\"\\nKolmogorov–Smirnov Test for Exponential Distribution:\")\n",
        "print(f\"  Statistic = {ks_exp.statistic:.4f}, p-value = {ks_exp.pvalue:.6f}\")\n",
        "if ks_exp.pvalue > 0.05:\n",
        "    print(\"  ➤ Conclusion: Data follows an exponential distribution (fail to reject H₀)\")\n",
        "else:\n",
        "    print(\"  ➤ Conclusion: Data does NOT follow an exponential distribution (reject H₀)\")\n",
        "\n",
        "print(\"\\nAnderson–Darling Test for Normal Distribution:\")\n",
        "print(f\"  Statistic = {ad_result.statistic:.4f}\")\n",
        "for sl, cv in zip(ad_result.significance_level, ad_result.critical_values):\n",
        "    print(f\"  Significance level {sl}%: Critical value = {cv:.3f}\")\n",
        "if ad_result.statistic < ad_result.critical_values[2]:  # 5% significance level\n",
        "    print(\"  ➤ Conclusion: Data follows a normal distribution (statistic < critical value at 5%)\")\n",
        "else:\n",
        "    print(\"  ➤ Conclusion: Data does NOT follow a normal distribution (statistic > critical value at 5%)\")\n",
        "\n",
        "# === Plot Histogram with Fit ===\n",
        "import seaborn as sns\n",
        "import matplotlib.pyplot as plt\n",
        "\n",
        "# Histogram of data\n",
        "sns.histplot(data, bins=10, kde=False, stat='density', color='skyblue', label='Data Histogram')\n",
        "\n",
        "# Normal distribution fit line\n",
        "x_vals = np.linspace(min(data), max(data), 100)\n",
        "pdf_normal = stats.norm.pdf(x_vals, mu, std)\n",
        "plt.plot(x_vals, pdf_normal, 'r-', label='Normal Fit')\n",
        "\n",
        "plt.legend()\n",
        "plt.title(\"Histogram of Transmission Times with Normal Fit\")\n",
        "plt.xlabel(\"Transmission Time (ms)\")\n",
        "plt.ylabel(\"Density\")\n",
        "plt.show()\n"
      ],
      "metadata": {
        "id": "bUzsIPm4PFX2",
        "outputId": "19280bed-a82e-41fd-ffaf-49c17bd4b6f5",
        "colab": {
          "base_uri": "https://localhost:8080/",
          "height": 811
        }
      },
      "execution_count": null,
      "outputs": [
        {
          "output_type": "stream",
          "name": "stdout",
          "text": [
            "Estimated Normal Parameters: μ = 4.91, σ = 0.89\n",
            "Estimated Exponential Parameter: λ = 0.20\n",
            "\n",
            "Kolmogorov–Smirnov Test for Normal Distribution:\n",
            "  Statistic = 0.1187, p-value = 0.4476\n",
            "  ➤ Conclusion: Data follows a normal distribution (fail to reject H₀)\n",
            "\n",
            "Kolmogorov–Smirnov Test for Exponential Distribution:\n",
            "  Statistic = 0.4785, p-value = 0.000000\n",
            "  ➤ Conclusion: Data does NOT follow an exponential distribution (reject H₀)\n",
            "\n",
            "Anderson–Darling Test for Normal Distribution:\n",
            "  Statistic = 0.6591\n",
            "  Significance level 15.0%: Critical value = 0.538\n",
            "  Significance level 10.0%: Critical value = 0.613\n",
            "  Significance level 5.0%: Critical value = 0.736\n",
            "  Significance level 2.5%: Critical value = 0.858\n",
            "  Significance level 1.0%: Critical value = 1.021\n",
            "  ➤ Conclusion: Data follows a normal distribution (statistic < critical value at 5%)\n"
          ]
        },
        {
          "output_type": "display_data",
          "data": {
            "text/plain": [
              "<Figure size 640x480 with 1 Axes>"
            ],
            "image/png": "[encoded data removed]"
          },
          "metadata": {}
        }
      ]
    }
  ]
}